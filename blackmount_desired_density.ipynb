{
 "cells": [
  {
   "cell_type": "markdown",
   "metadata": {},
   "source": [
    "# Deer Population Experiments\n"
   ]
  },
  {
   "cell_type": "code",
   "execution_count": null,
   "metadata": {
    "lines_to_next_cell": 2
   },
   "outputs": [],
   "source": [
    "%load_ext autoreload\n",
    "%autoreload 2\n",
    "\n",
    "from src.main_emp_0_2 import runSimulation, HuntingParameters, ModelParameters"
   ]
  },
  {
   "cell_type": "markdown",
   "id": "2",
   "metadata": {},
   "source": [
    "## Set up parameter options\n"
   ]
  },
  {
   "cell_type": "markdown",
   "metadata": {},
   "source": [
    "Stags 10 year average : 538\n",
    "Hinds 10 year average : 591\n",
    "Calves 10 year average : 267\n",
    "\n",
    "Possibilities:\n",
    "5 year average (2014-2018)\n",
    "10 year average (2009-2018)\n",
    "Extrapolate certain year(s) - such as 2018 below\n",
    "Percentages of certain year (25%, 50%, 75%)\n",
    "Cull a fixed percentage (not easy for irl use case)\n",
    "Cull when population over fixed amount (not easy for irl use case)\n",
    "Could pause or reduce for x years and look at population recovery\n",
    "Change parameters - reproduce, death, carrying capacity\n",
    "Identify the tipping point population\n",
    "\n",
    "Do we need to find which numbers mean that num calves born never reaches 0\n"
   ]
  },
  {
   "cell_type": "code",
   "execution_count": null,
   "metadata": {},
   "outputs": [],
   "source": [
    "# Define yearly cull data\n",
    "start_year = 2019\n",
    "change_year = 2034\n",
    "end_year = 2050\n",
    "c1 = int(20 * 7)\n",
    "h1 = int(52 * 7)\n",
    "s1 = int(58 * 7)\n",
    "\n",
    "c2 = int(20 * 4)\n",
    "h2 = int(52 * 4)\n",
    "s2 = int(58 * 4)"
   ]
  },
  {
   "cell_type": "code",
   "execution_count": null,
   "id": "5",
   "metadata": {},
   "outputs": [],
   "source": [
    "culling_data = {\n",
    "    2005: {\"calves\": 160, \"hinds\": 570, \"stags\": 420},\n",
    "    2006: {\"calves\": 200, \"hinds\": 500, \"stags\": 520},\n",
    "    2007: {\"calves\": 260, \"hinds\": 580, \"stags\": 450},\n",
    "    2008: {\"calves\": 210, \"hinds\": 550, \"stags\": 450},\n",
    "    2009: {\"calves\": 260, \"hinds\": 490, \"stags\": 430},\n",
    "    2010: {\"calves\": 270, \"hinds\": 510, \"stags\": 520},\n",
    "    2011: {\"calves\": 160, \"hinds\": 490, \"stags\": 550},\n",
    "    2012: {\"calves\": 290, \"hinds\": 600, \"stags\": 590},\n",
    "    2013: {\"calves\": 290, \"hinds\": 650, \"stags\": 610},\n",
    "    2014: {\"calves\": 290, \"hinds\": 620, \"stags\": 500},\n",
    "    2015: {\"calves\": 220, \"hinds\": 590, \"stags\": 510},\n",
    "    2016: {\"calves\": 290, \"hinds\": 610, \"stags\": 490},\n",
    "    2017: {\"calves\": 400, \"hinds\": 830, \"stags\": 600},\n",
    "    2018: {\"calves\": 200, \"hinds\": 520, \"stags\": 580},\n",
    "    **{\n",
    "        year: {\"calves\": c1, \"hinds\": h1, \"stags\": s1}\n",
    "        for year in range(start_year, change_year)\n",
    "    },\n",
    "    **{\n",
    "        year: {\"calves\": c2, \"hinds\": h2, \"stags\": s2}\n",
    "        for year in range(change_year + 1, end_year)\n",
    "    },\n",
    "}\n",
    "print(culling_data)\n",
    "# Instantiate HuntingParameters with yearly cull data\n",
    "harvestEqual = HuntingParameters(culling_data=culling_data)"
   ]
  },
  {
   "cell_type": "code",
   "execution_count": null,
   "id": "6",
   "metadata": {
    "lines_to_next_cell": 2
   },
   "outputs": [],
   "source": [
    "maximumIndividuals = 8000\n",
    "maximumIndividuals = 15300\n",
    "defaultParameters = ModelParameters(\n",
    "    maxCapacityImpact=0.1,\n",
    "    capacityCurveSlope=1,\n",
    "    maximumIndividuals=maximumIndividuals,\n",
    "    huntingLimit=200,\n",
    "    probYoungReproduce=0.1,  # 0.1\n",
    "    probMatureReproduce=0.9,  # 0.5\n",
    ")"
   ]
  },
  {
   "cell_type": "code",
   "execution_count": null,
   "metadata": {},
   "outputs": [],
   "source": [
    "population_df = runSimulation(\n",
    "    defaultParameters,\n",
    "    harvestEqual,\n",
    "    samples=100,\n",
    "    start_year=2005,\n",
    "    end_year=end_year,\n",
    "    # initial_stags=2489,\n",
    "    # initial_hinds=1211,\n",
    "    # initial_calves=3568,\n",
    ")"
   ]
  },
  {
   "cell_type": "code",
   "execution_count": null,
   "id": "8",
   "metadata": {},
   "outputs": [],
   "source": [
    "import matplotlib.pyplot as plt\n",
    "\n",
    "# Plot the population over time for each iteration\n",
    "plt.figure(figsize=(10, 6))\n",
    "\n",
    "# Plot individual simulations\n",
    "for iteration, group in population_df.groupby(\"iteration\"):\n",
    "    plt.plot(\n",
    "        group[\"year\"], group[\"num_individuals\"], color=\"black\", alpha=0.1, linewidth=0.5\n",
    "    )\n",
    "\n",
    "# Plot the desired population lines\n",
    "desired_population = 910 * 4  # see README\n",
    "plt.axhline(\n",
    "    y=desired_population,\n",
    "    color=\"green\",\n",
    "    linestyle=\"--\",\n",
    "    label=\"Desired Population Density (< 4 / sq. km.)\",\n",
    ")\n",
    "desired_population = 910  # see README\n",
    "plt.axhline(\n",
    "    y=desired_population,\n",
    "    color=\"green\",\n",
    "    linestyle=\"-\",\n",
    "    label=\"Desired Population Density (< 1 / sq. km.)\",\n",
    ")\n",
    "\n",
    "# Plot the change_year\n",
    "plt.axvline(x=start_year - 1, color=\"purple\", linestyle=\"--\")\n",
    "\n",
    "# Plot the change_year\n",
    "plt.axvline(x=change_year, color=\"purple\", linestyle=\"--\")\n",
    "\n",
    "plt.ylim((0, maximumIndividuals))\n",
    "\n",
    "plt.legend()\n",
    "plt.xlabel(\"Year\")\n",
    "plt.ylabel(\"Number of Individuals\")\n",
    "plt.title(\"Population Over Time for Each Iteration\")\n",
    "plt.show()"
   ]
  },
  {
   "cell_type": "code",
   "execution_count": null,
   "metadata": {},
   "outputs": [],
   "source": [
    "for iteration, group in population_df.groupby(\"iteration\"):\n",
    "    plt.plot(group[\"year\"], group[\"num_calves\"])\n",
    "\n",
    "plt.title(\"Num Calves Born\")\n",
    "plt.show()"
   ]
  },
  {
   "cell_type": "code",
   "execution_count": null,
   "metadata": {},
   "outputs": [],
   "source": [
    "for iteration, group in population_df.groupby(\"iteration\"):\n",
    "    plt.plot(group[\"year\"], group[\"avg_age\"])\n",
    "\n",
    "plt.title(\"Average Age\")\n",
    "plt.show()"
   ]
  },
  {
   "cell_type": "code",
   "execution_count": null,
   "metadata": {},
   "outputs": [],
   "source": [
    "for iteration, group in population_df.groupby(\"iteration\"):\n",
    "    plt.plot(\n",
    "        group[\"year\"], group[\"stags_died_percentage\"] + group[\"hinds_died_percentage\"]\n",
    "    )\n",
    "\n",
    "plt.title(\"% Adults Died Naturally\")\n",
    "plt.show()"
   ]
  },
  {
   "cell_type": "code",
   "execution_count": null,
   "metadata": {},
   "outputs": [],
   "source": [
    "for iteration, group in population_df.groupby(\"iteration\"):\n",
    "    plt.plot(group[\"year\"], group[\"calves_died_percentage\"])\n",
    "\n",
    "plt.title(\"% Calves Died Naturally\")\n",
    "plt.show()"
   ]
  },
  {
   "cell_type": "code",
   "execution_count": null,
   "metadata": {},
   "outputs": [],
   "source": []
  }
 ],
 "metadata": {
  "kernelspec": {
   "display_name": "moss",
   "language": "python",
   "name": "python3"
  },
  "language_info": {
   "codemirror_mode": {
    "name": "ipython",
    "version": 3
   },
   "file_extension": ".py",
   "mimetype": "text/x-python",
   "name": "python",
   "nbconvert_exporter": "python",
   "pygments_lexer": "ipython3",
   "version": "3.13.0"
  }
 },
 "nbformat": 4,
 "nbformat_minor": 2
}
