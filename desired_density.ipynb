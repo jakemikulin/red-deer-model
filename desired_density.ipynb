{
 "cells": [
  {
   "cell_type": "markdown",
   "metadata": {},
   "source": [
    "# Deer Population Experiments\n"
   ]
  },
  {
   "cell_type": "code",
   "execution_count": null,
   "metadata": {
    "lines_to_next_cell": 2
   },
   "outputs": [],
   "source": [
    "%load_ext autoreload\n",
    "%autoreload 2\n",
    "\n",
    "from src.main_emp_0_2 import runSimulation, HuntingParameters, ModelParameters"
   ]
  },
  {
   "cell_type": "markdown",
   "id": "2",
   "metadata": {},
   "source": [
    "## Set up parameter options\n"
   ]
  },
  {
   "cell_type": "markdown",
   "metadata": {},
   "source": [
    "Stags 10 year average : 538\n",
    "Hinds 10 year average : 591\n",
    "Calves 10 year average : 267\n",
    "\n",
    "Possibilities:\n",
    "5 year average (2014-2018)\n",
    "10 year average (2009-2018)\n",
    "Extrapolate certain year(s) - such as 2018 below\n",
    "Percentages of certain year (25%, 50%, 75%)\n",
    "Cull a fixed percentage (not easy for irl use case)\n",
    "Cull when population over fixed amount (not easy for irl use case)\n",
    "Could pause or reduce for x years and look at population recovery\n",
    "Change parameters - reproduce, death, carrying capacity\n",
    "Identify the tipping point population\n",
    "\n",
    "Do we need to find which numbers mean that num calves born never reaches 0"
   ]
  },
  {
   "cell_type": "code",
   "execution_count": null,
   "id": "3",
   "metadata": {},
   "outputs": [],
   "source": [
    "# Define yearly cull data\n",
    "c = int(20 * 5)\n",
    "h = int(52 * 5)\n",
    "s = int(58 * 5)\n",
    "culling_data = {\n",
    "    # Historical Data\n",
    "    2005: {\"calves\": 160, \"hinds\": 570, \"stags\": 420},\n",
    "    2006: {\"calves\": 200, \"hinds\": 500, \"stags\": 520},\n",
    "    2007: {\"calves\": 260, \"hinds\": 580, \"stags\": 450},\n",
    "    2008: {\"calves\": 210, \"hinds\": 550, \"stags\": 450},\n",
    "    2009: {\"calves\": 260, \"hinds\": 490, \"stags\": 430},\n",
    "    2010: {\"calves\": 270, \"hinds\": 510, \"stags\": 520},\n",
    "    2011: {\"calves\": 160, \"hinds\": 490, \"stags\": 550},\n",
    "    2012: {\"calves\": 290, \"hinds\": 600, \"stags\": 590},\n",
    "    2013: {\"calves\": 290, \"hinds\": 650, \"stags\": 610},\n",
    "    2014: {\"calves\": 290, \"hinds\": 620, \"stags\": 500},\n",
    "    2015: {\"calves\": 220, \"hinds\": 590, \"stags\": 510},\n",
    "    2016: {\"calves\": 290, \"hinds\": 610, \"stags\": 490},\n",
    "    2017: {\"calves\": 400, \"hinds\": 830, \"stags\": 600},\n",
    "    2018: {\"calves\": 200, \"hinds\": 520, \"stags\": 580},\n",
    "    # Continue at 2018 rate for 4 years\n",
    "    2019: {\"calves\": 200, \"hinds\": 520, \"stags\": 580},\n",
    "    2020: {\"calves\": 200, \"hinds\": 520, \"stags\": 580},\n",
    "    2021: {\"calves\": 200, \"hinds\": 520, \"stags\": 580},\n",
    "    2022: {\"calves\": 200, \"hinds\": 520, \"stags\": 580},\n",
    "    2023: {\"calves\": 200, \"hinds\": 520, \"stags\": 580},\n",
    "    # Continue at following rate to keep steady population\n",
    "    2024: {\"calves\": c, \"hinds\": h, \"stags\": s},\n",
    "    2025: {\"calves\": c, \"hinds\": h, \"stags\": s},\n",
    "    2026: {\"calves\": c, \"hinds\": h, \"stags\": s},\n",
    "    2027: {\"calves\": c, \"hinds\": h, \"stags\": s},\n",
    "    2028: {\"calves\": c, \"hinds\": h, \"stags\": s},\n",
    "    2029: {\"calves\": c, \"hinds\": h, \"stags\": s},\n",
    "    2030: {\"calves\": c, \"hinds\": h, \"stags\": s},\n",
    "    2031: {\"calves\": c, \"hinds\": h, \"stags\": s},\n",
    "    2032: {\"calves\": c, \"hinds\": h, \"stags\": s},\n",
    "    2033: {\"calves\": c, \"hinds\": h, \"stags\": s},\n",
    "    2034: {\"calves\": c, \"hinds\": h, \"stags\": s},\n",
    "    2035: {\"calves\": c, \"hinds\": h, \"stags\": s},\n",
    "    2036: {\"calves\": c, \"hinds\": h, \"stags\": s},\n",
    "    2037: {\"calves\": c, \"hinds\": h, \"stags\": s},\n",
    "    2038: {\"calves\": c, \"hinds\": h, \"stags\": s},\n",
    "    2039: {\"calves\": c, \"hinds\": h, \"stags\": s},\n",
    "    2040: {\"calves\": c, \"hinds\": h, \"stags\": s},\n",
    "    2041: {\"calves\": c, \"hinds\": h, \"stags\": s},\n",
    "    2042: {\"calves\": c, \"hinds\": h, \"stags\": s},\n",
    "    2043: {\"calves\": c, \"hinds\": h, \"stags\": s},\n",
    "    2044: {\"calves\": c, \"hinds\": h, \"stags\": s},\n",
    "    2045: {\"calves\": c, \"hinds\": h, \"stags\": s},\n",
    "    2046: {\"calves\": c, \"hinds\": h, \"stags\": s},\n",
    "    2047: {\"calves\": c, \"hinds\": h, \"stags\": s},\n",
    "    2048: {\"calves\": c, \"hinds\": h, \"stags\": s},\n",
    "    2049: {\"calves\": c, \"hinds\": h, \"stags\": s},\n",
    "    2050: {\"calves\": c, \"hinds\": h, \"stags\": s},\n",
    "    2051: {\"calves\": c, \"hinds\": h, \"stags\": s},\n",
    "    2052: {\"calves\": c, \"hinds\": h, \"stags\": s},\n",
    "    2053: {\"calves\": c, \"hinds\": h, \"stags\": s},\n",
    "    2054: {\"calves\": c, \"hinds\": h, \"stags\": s},\n",
    "    2055: {\"calves\": c, \"hinds\": h, \"stags\": s},\n",
    "}\n",
    "# Instantiate HuntingParameters with yearly cull data\n",
    "harvestEqual = HuntingParameters(culling_data=culling_data)"
   ]
  },
  {
   "cell_type": "code",
   "execution_count": null,
   "metadata": {},
   "outputs": [],
   "source": [
    "actual_counts = {\n",
    "    2005: 10200,\n",
    "    2008: 9000,\n",
    "    2011: 9000,\n",
    "    2014: 8000,\n",
    "    2015: 9900,\n",
    "    2018: 8500,\n",
    "}"
   ]
  },
  {
   "cell_type": "code",
   "execution_count": null,
   "metadata": {},
   "outputs": [],
   "source": [
    "desired_population = 910 * 4  # see README"
   ]
  },
  {
   "cell_type": "code",
   "execution_count": null,
   "id": "6",
   "metadata": {
    "lines_to_next_cell": 2
   },
   "outputs": [],
   "source": [
    "defaultParameters = ModelParameters(\n",
    "    maxCapacityImpact=0.1,\n",
    "    capacityCurveSlope=1,\n",
    "    initialIndividuals=10200,\n",
    "    maximumIndividuals=15300,\n",
    "    huntingLimit=102000,\n",
    "    probYoungReproduce=0.1,  # 0.1\n",
    "    probMatureReproduce=0.9,  # 0.5\n",
    ")"
   ]
  },
  {
   "cell_type": "code",
   "execution_count": null,
   "metadata": {},
   "outputs": [],
   "source": [
    "population_df = runSimulation(\n",
    "    defaultParameters, harvestEqual, samples=100, end_year=2050\n",
    ")"
   ]
  },
  {
   "cell_type": "code",
   "execution_count": null,
   "id": "8",
   "metadata": {},
   "outputs": [],
   "source": [
    "import matplotlib.pyplot as plt\n",
    "\n",
    "# Plot the population over time for each iteration\n",
    "plt.figure(figsize=(10, 6))\n",
    "\n",
    "average_population = population_df.groupby(\"year\")[\"num_individuals\"].mean()\n",
    "\n",
    "plt.plot(\n",
    "    average_population.index, average_population.values, label=\"simulation averages\"\n",
    ")\n",
    "\n",
    "# Plot the actual counts\n",
    "actual_years = list(actual_counts.keys())\n",
    "actual_values = list(actual_counts.values())\n",
    "\n",
    "plt.axhline(\n",
    "    y=desired_population, color=\"green\", linestyle=\"--\", label=\"Desired Population\"\n",
    ")\n",
    "\n",
    "plt.plot(actual_years, actual_values, label=\"Actual Counts\", color=\"red\", marker=\"o\")\n",
    "plt.legend()\n",
    "\n",
    "\n",
    "plt.xlabel(\"Year\")\n",
    "plt.ylabel(\"Number of Individuals\")\n",
    "plt.title(\"Population Over Time for Each Iteration\")\n",
    "plt.show()"
   ]
  },
  {
   "cell_type": "code",
   "execution_count": null,
   "metadata": {},
   "outputs": [],
   "source": [
    "for iteration, group in population_df.groupby(\"iteration\"):\n",
    "    plt.plot(group[\"year\"], group[\"num_calves\"])\n",
    "\n",
    "plt.title(\"Num Calves Born\")\n",
    "plt.show()"
   ]
  },
  {
   "cell_type": "code",
   "execution_count": null,
   "metadata": {},
   "outputs": [],
   "source": [
    "for iteration, group in population_df.groupby(\"iteration\"):\n",
    "    plt.plot(group[\"year\"], group[\"avg_age\"])\n",
    "\n",
    "plt.title(\"Average Age\")\n",
    "plt.show()"
   ]
  },
  {
   "cell_type": "code",
   "execution_count": null,
   "metadata": {},
   "outputs": [],
   "source": [
    "for iteration, group in population_df.groupby(\"iteration\"):\n",
    "    plt.plot(\n",
    "        group[\"year\"], group[\"stags_died_percentage\"] + group[\"hinds_died_percentage\"]\n",
    "    )\n",
    "\n",
    "plt.title(\"% Adults Died Naturally\")\n",
    "plt.show()"
   ]
  },
  {
   "cell_type": "code",
   "execution_count": null,
   "metadata": {},
   "outputs": [],
   "source": [
    "for iteration, group in population_df.groupby(\"iteration\"):\n",
    "    plt.plot(group[\"year\"], group[\"calves_died_percentage\"])\n",
    "\n",
    "plt.title(\"% Calves Died Naturally\")\n",
    "plt.show()"
   ]
  },
  {
   "cell_type": "code",
   "execution_count": null,
   "metadata": {},
   "outputs": [],
   "source": [
    "# Create modified culling datasets based on percentages of 2018 data\n",
    "base_2018_cull = culling_data[2018]\n",
    "percentages = [0.25, 0.50, 0.75, 1, 1.25]\n",
    "\n",
    "# Create culling datasets for each percentage\n",
    "culling_data_variants = {}\n",
    "for pct in percentages:\n",
    "    culling_data_variants[pct] = {\n",
    "        year: {\n",
    "            \"calves\": int(base_2018_cull[\"calves\"] * pct),\n",
    "            \"hinds\": int(base_2018_cull[\"hinds\"] * pct),\n",
    "            \"stags\": int(base_2018_cull[\"stags\"] * pct),\n",
    "        }\n",
    "        for year in range(2019, 2051)\n",
    "    }\n",
    "    print(f\"Created culling data for {int(pct*100)}% of 2018 cull data\")\n",
    "    print(culling_data_variants[pct])\n",
    "\n",
    "# Run simulations for each percentage\n",
    "simulation_results = {}\n",
    "for pct, modified_culling_data in culling_data_variants.items():\n",
    "    harvestModified = HuntingParameters(culling_data=modified_culling_data)\n",
    "    print(f\"Running simulation for {int(pct*100)}% of 2018 cull data\")\n",
    "    sim_df = runSimulation(defaultParameters, harvestModified, samples=100, end_year=2050)\n",
    "    simulation_results[pct] = sim_df.groupby(\"year\")[\"num_individuals\"].mean()\n",
    "    print(f\"Completed simulation for {int(pct*100)}% of 2018 cull data\")\n",
    "    "
   ]
  },
  {
   "cell_type": "code",
   "execution_count": null,
   "metadata": {},
   "outputs": [],
   "source": [
    "# Plot all simulations on the same graph\n",
    "plt.figure(figsize=(12, 8))\n",
    "\n",
    "# Plot each percentage simulation\n",
    "for pct, avg_population in simulation_results.items():\n",
    "    plt.plot(avg_population.index, avg_population.values, label=f\"{int(pct*100)}% of 2018 Cull\")\n",
    "\n",
    "# Plot the actual counts\n",
    "plt.plot(actual_years, actual_values, label=\"Actual Counts\", color=\"red\", marker=\"o\")\n",
    "\n",
    "# Add desired population line\n",
    "plt.axhline(\n",
    "    y=desired_population, color=\"green\", linestyle=\"--\", label=\"Desired Population\"\n",
    ")\n",
    "\n",
    "# Add labels, legend, and title\n",
    "plt.xlabel(\"Year\")\n",
    "plt.ylabel(\"Number of Individuals\")\n",
    "plt.title(\"Population Simulations with Varying Cull Percentages\")\n",
    "plt.legend()\n",
    "plt.show()"
   ]
  },
  {
   "cell_type": "code",
   "execution_count": null,
   "metadata": {},
   "outputs": [],
   "source": []
  }
 ],
 "metadata": {
  "kernelspec": {
   "display_name": "venv",
   "language": "python",
   "name": "python3"
  },
  "language_info": {
   "codemirror_mode": {
    "name": "ipython",
    "version": 3
   },
   "file_extension": ".py",
   "mimetype": "text/x-python",
   "name": "python",
   "nbconvert_exporter": "python",
   "pygments_lexer": "ipython3",
   "version": "3.10.13"
  }
 },
 "nbformat": 4,
 "nbformat_minor": 2
}
