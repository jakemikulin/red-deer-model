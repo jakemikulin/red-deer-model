{
 "cells": [
  {
   "cell_type": "markdown",
   "metadata": {},
   "source": [
    "# Deer Population Experiments\n"
   ]
  },
  {
   "cell_type": "code",
   "execution_count": null,
   "metadata": {
    "lines_to_next_cell": 2
   },
   "outputs": [],
   "source": [
    "%load_ext autoreload\n",
    "%autoreload 2\n",
    "\n",
    "from src.main_emp import runSimulation, HuntingParameters, ModelParameters"
   ]
  },
  {
   "cell_type": "markdown",
   "id": "2",
   "metadata": {},
   "source": [
    "## Set up parameter options"
   ]
  },
  {
   "cell_type": "code",
   "execution_count": null,
   "id": "3",
   "metadata": {},
   "outputs": [],
   "source": [
    "# Define yearly cull data\n",
    "culling_data = {\n",
    "    2005: {'calves': 160, 'hinds': 570, 'stags': 420},\n",
    "    2006: {'calves': 200, 'hinds': 500, 'stags': 520},\n",
    "    2007: {'calves': 260, 'hinds': 580, 'stags': 450},\n",
    "    2008: {'calves': 210, 'hinds': 550, 'stags': 450},\n",
    "    2009: {'calves': 260, 'hinds': 490, 'stags': 430},\n",
    "    2010: {'calves': 270, 'hinds': 510, 'stags': 520},\n",
    "    2011: {'calves': 160, 'hinds': 490, 'stags': 550},\n",
    "    2012: {'calves': 290, 'hinds': 600, 'stags': 590},\n",
    "    2013: {'calves': 290, 'hinds': 650, 'stags': 610},\n",
    "    2014: {'calves': 290, 'hinds': 620, 'stags': 500},\n",
    "    2015: {'calves': 220, 'hinds': 590, 'stags': 510},\n",
    "    2016: {'calves': 290, 'hinds': 610, 'stags': 490},\n",
    "    2017: {'calves': 400, 'hinds': 830, 'stags': 600},\n",
    "    2018: {'calves': 200, 'hinds': 520, 'stags': 580},\n",
    "}\n",
    "\n",
    "# Instantiate HuntingParameters with yearly cull data\n",
    "harvestEqual = HuntingParameters(culling_data=culling_data)"
   ]
  },
  {
   "cell_type": "code",
   "execution_count": null,
   "id": "4",
   "metadata": {
    "lines_to_next_cell": 2
   },
   "outputs": [],
   "source": [
    "defaultParameters = ModelParameters(\n",
    "    maxCapacityImpact=0.1,\n",
    "    capacityCurveSlope=1,\n",
    "    initialIndividuals=10200,\n",
    "    maximumIndividuals=15300,\n",
    "    huntingLimit=1020,\n",
    ")"
   ]
  },
  {
   "cell_type": "code",
   "execution_count": null,
   "id": "5",
   "metadata": {},
   "outputs": [],
   "source": [
    "import matplotlib.pyplot as plt\n",
    "\n",
    "population_df = runSimulation(defaultParameters, harvestEqual, samples=100)\n",
    "\n",
    "# Plot the population over time for each iteration\n",
    "plt.figure(figsize=(10, 6))\n",
    "\n",
    "for iteration, group in population_df.groupby(\"iteration\"):\n",
    "    plt.plot(group[\"year\"], group[\"num_individuals\"])\n",
    "\n",
    "plt.xlabel(\"Year\")\n",
    "plt.ylabel(\"Number of Individuals\")\n",
    "plt.title(\"Population Over Time for Each Iteration\")\n",
    "plt.show()"
   ]
  },
  {
   "cell_type": "code",
   "execution_count": null,
   "metadata": {},
   "outputs": [],
   "source": []
  }
 ],
 "metadata": {
  "kernelspec": {
   "display_name": "venv",
   "language": "python",
   "name": "python3"
  },
  "language_info": {
   "codemirror_mode": {
    "name": "ipython",
    "version": 3
   },
   "file_extension": ".py",
   "mimetype": "text/x-python",
   "name": "python",
   "nbconvert_exporter": "python",
   "pygments_lexer": "ipython3",
   "version": "3.10.13"
  }
 },
 "nbformat": 4,
 "nbformat_minor": 2
}
