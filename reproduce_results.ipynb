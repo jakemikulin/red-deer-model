{
 "cells": [
  {
   "cell_type": "markdown",
   "metadata": {},
   "source": [
    "# Deer Population Experiments\n"
   ]
  },
  {
   "cell_type": "code",
   "execution_count": null,
   "metadata": {
    "lines_to_next_cell": 2
   },
   "outputs": [],
   "source": [
    "%load_ext autoreload\n",
    "%autoreload 2\n",
    "\n",
    "from src.main import runSimulation, HuntingParameters, ModelParameters"
   ]
  },
  {
   "cell_type": "markdown",
   "id": "2",
   "metadata": {
    "lines_to_next_cell": 0
   },
   "source": [
    "## Set up parameter options\n"
   ]
  },
  {
   "cell_type": "code",
   "execution_count": null,
   "id": "3",
   "metadata": {},
   "outputs": [],
   "source": [
    "harvestEqual = HuntingParameters(\n",
    "    calves=4,\n",
    "    youngHinds=4,\n",
    "    youngStags=4,\n",
    "    matureHinds=4,\n",
    "    matureStags=4,\n",
    ")\n",
    "\n",
    "mainlyHuntStags = HuntingParameters(\n",
    "    calves=5,\n",
    "    youngHinds=3,\n",
    "    youngStags=8,\n",
    "    matureHinds=2,\n",
    "    matureStags=7,\n",
    ")\n",
    "\n",
    "mainlyHuntHinds = HuntingParameters(\n",
    "    calves=5,\n",
    "    youngHinds=8,\n",
    "    youngStags=3,\n",
    "    matureHinds=7,\n",
    "    matureStags=2,\n",
    ")"
   ]
  },
  {
   "cell_type": "code",
   "execution_count": null,
   "id": "4",
   "metadata": {
    "lines_to_next_cell": 2
   },
   "outputs": [],
   "source": [
    "defaultParameters = ModelParameters(\n",
    "    maxCapacityImpact=0.3,\n",
    "    capacityCurveSlope=1,\n",
    "    initialIndividuals=100,\n",
    "    maximumIndividuals=150,\n",
    "    huntingLimit=10,\n",
    ")"
   ]
  },
  {
   "cell_type": "code",
   "execution_count": null,
   "id": "5",
   "metadata": {},
   "outputs": [],
   "source": [
    "import matplotlib.pyplot as plt\n",
    "\n",
    "population_df = runSimulation(defaultParameters, harvestEqual, samples=100)\n",
    "\n",
    "# Plot the population over time for each iteration\n",
    "plt.figure(figsize=(10, 6))\n",
    "\n",
    "for iteration, group in population_df.groupby(\"iteration\"):\n",
    "    plt.plot(group[\"year\"], group[\"num_individuals\"])\n",
    "\n",
    "plt.xlabel(\"Year\")\n",
    "plt.ylabel(\"Number of Individuals\")\n",
    "plt.title(\"Population Over Time for Each Iteration\")\n",
    "plt.show()"
   ]
  }
 ],
 "metadata": {
  "kernelspec": {
   "display_name": "moss",
   "language": "python",
   "name": "python3"
  },
  "language_info": {
   "codemirror_mode": {
    "name": "ipython",
    "version": 3
   },
   "file_extension": ".py",
   "mimetype": "text/x-python",
   "name": "python",
   "nbconvert_exporter": "python",
   "pygments_lexer": "ipython3",
   "version": "3.13.0"
  }
 },
 "nbformat": 4,
 "nbformat_minor": 2
}
