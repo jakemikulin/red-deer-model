{
 "cells": [
  {
   "cell_type": "markdown",
   "metadata": {},
   "source": [
    "# Reproduction of Wilson's Results\n"
   ]
  },
  {
   "cell_type": "code",
   "execution_count": null,
   "metadata": {
    "lines_to_next_cell": 2
   },
   "outputs": [],
   "source": [
    "%load_ext autoreload\n",
    "%autoreload 2\n",
    "\n",
    "import matplotlib.pyplot as plt\n",
    "from src.main import runSimulation, HuntingParameters, ModelParameters"
   ]
  },
  {
   "cell_type": "markdown",
   "id": "2",
   "metadata": {
    "lines_to_next_cell": 0
   },
   "source": [
    "## Setup\n"
   ]
  },
  {
   "cell_type": "code",
   "execution_count": null,
   "metadata": {},
   "outputs": [],
   "source": [
    "defaultParameters = ModelParameters(\n",
    "    maxCapacityImpact=0.3,\n",
    "    capacityCurveSlope=1,\n",
    "    initialIndividuals=100,\n",
    "    maximumIndividuals=150,\n",
    "    huntingLimit=10,\n",
    ")"
   ]
  },
  {
   "cell_type": "markdown",
   "metadata": {},
   "source": [
    "### Harvesting Strategies\n"
   ]
  },
  {
   "cell_type": "code",
   "execution_count": null,
   "metadata": {},
   "outputs": [],
   "source": [
    "harvestEqual = HuntingParameters(\n",
    "    calves=4,\n",
    "    youngHinds=4,\n",
    "    youngStags=4,\n",
    "    matureHinds=4,\n",
    "    matureStags=4,\n",
    ")"
   ]
  },
  {
   "cell_type": "code",
   "execution_count": null,
   "metadata": {},
   "outputs": [],
   "source": [
    "mainlyHuntStags = HuntingParameters(\n",
    "    calves=5,\n",
    "    youngHinds=3,\n",
    "    youngStags=8,\n",
    "    matureHinds=2,\n",
    "    matureStags=7,\n",
    ")"
   ]
  },
  {
   "cell_type": "code",
   "execution_count": null,
   "id": "7",
   "metadata": {},
   "outputs": [],
   "source": [
    "mainlyHuntHinds = HuntingParameters(\n",
    "    calves=5,\n",
    "    youngHinds=8,\n",
    "    youngStags=3,\n",
    "    matureHinds=7,\n",
    "    matureStags=2,\n",
    ")"
   ]
  },
  {
   "cell_type": "code",
   "execution_count": null,
   "metadata": {},
   "outputs": [],
   "source": [
    "noHunting = HuntingParameters(\n",
    "    calves=0,\n",
    "    youngHinds=0,\n",
    "    youngStags=0,\n",
    "    matureHinds=0,\n",
    "    matureStags=0,\n",
    ")"
   ]
  },
  {
   "cell_type": "markdown",
   "metadata": {},
   "source": [
    "## Run Simulations\n"
   ]
  },
  {
   "cell_type": "code",
   "execution_count": null,
   "metadata": {},
   "outputs": [],
   "source": [
    "def display_population(population_df, title):\n",
    "    # Plot the population over time for each iteration\n",
    "    plt.figure(figsize=(10, 6))\n",
    "\n",
    "    for iteration, group in population_df.groupby(\"iteration\"):\n",
    "        plt.plot(\n",
    "            group[\"year\"],\n",
    "            group[\"num_individuals\"],\n",
    "            color=\"black\",\n",
    "            alpha=0.1,\n",
    "            linewidth=1,\n",
    "        )\n",
    "\n",
    "    plt.ylim(0)\n",
    "    plt.xlim((0, 100))\n",
    "    plt.xlabel(\"Year\", fontsize=14)\n",
    "    plt.ylabel(\"Number of Individuals\", fontsize=14)\n",
    "    plt.title(title, fontsize=18)\n",
    "    plt.show()"
   ]
  },
  {
   "cell_type": "markdown",
   "metadata": {},
   "source": [
    "### Harvest Equal Number Of Individuals\n"
   ]
  },
  {
   "cell_type": "code",
   "execution_count": null,
   "metadata": {},
   "outputs": [],
   "source": [
    "population_df = runSimulation(defaultParameters, harvestEqual, samples=500)"
   ]
  },
  {
   "cell_type": "code",
   "execution_count": null,
   "id": "13",
   "metadata": {},
   "outputs": [],
   "source": [
    "display_population(population_df, \"Harvest Equal Number of Individuals\")"
   ]
  },
  {
   "cell_type": "markdown",
   "metadata": {},
   "source": [
    "### Mainly Hunt Stags\n"
   ]
  },
  {
   "cell_type": "code",
   "execution_count": null,
   "metadata": {},
   "outputs": [],
   "source": [
    "population_df = runSimulation(defaultParameters, mainlyHuntStags, samples=500)"
   ]
  },
  {
   "cell_type": "code",
   "execution_count": null,
   "metadata": {},
   "outputs": [],
   "source": [
    "display_population(population_df, \"Mainly Hunt Stags\")"
   ]
  },
  {
   "cell_type": "markdown",
   "metadata": {},
   "source": [
    "### Mainly Hunt Hinds\n"
   ]
  },
  {
   "cell_type": "code",
   "execution_count": null,
   "metadata": {},
   "outputs": [],
   "source": [
    "population_df = runSimulation(defaultParameters, mainlyHuntHinds, samples=500)"
   ]
  },
  {
   "cell_type": "code",
   "execution_count": null,
   "metadata": {},
   "outputs": [],
   "source": [
    "display_population(population_df, \"Mainly Hunt Hinds\")"
   ]
  },
  {
   "cell_type": "markdown",
   "metadata": {},
   "source": [
    "### No Hunting\n"
   ]
  },
  {
   "cell_type": "code",
   "execution_count": null,
   "metadata": {},
   "outputs": [],
   "source": [
    "population_df = runSimulation(defaultParameters, noHunting, samples=500)"
   ]
  },
  {
   "cell_type": "code",
   "execution_count": null,
   "metadata": {},
   "outputs": [],
   "source": [
    "display_population(population_df, \"No Hunting\")"
   ]
  },
  {
   "cell_type": "code",
   "execution_count": null,
   "metadata": {},
   "outputs": [],
   "source": []
  }
 ],
 "metadata": {
  "kernelspec": {
   "display_name": "moss",
   "language": "python",
   "name": "python3"
  },
  "language_info": {
   "codemirror_mode": {
    "name": "ipython",
    "version": 3
   },
   "file_extension": ".py",
   "mimetype": "text/x-python",
   "name": "python",
   "nbconvert_exporter": "python",
   "pygments_lexer": "ipython3",
   "version": "3.13.0"
  }
 },
 "nbformat": 4,
 "nbformat_minor": 2
}
